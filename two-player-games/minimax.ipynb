{
  "cells": [
    {
      "cell_type": "markdown",
      "metadata": {
        "collapsed": false
      },
      "source": [
        "# Ćwiczenie 3\n",
        "\n",
        "Celem ćwiczenia jest imlementacja metody [Minimax z obcinaniem alpha-beta](https://en.wikipedia.org/wiki/Alpha%E2%80%93beta_pruning) do gry Connect Four (czwórki).\n",
        "\n",
        "W trakcie ćwiczenia można skorzystać z reposytorium z implementacją gry [Connect Four udostępnionym przez Jakuba Łyskawę](https://github.com/lychanl/two-player-games). Ewentualnie, można zaimplementować samemu grę Connect Four (ale, tak aby rozwiązanie miało ten sam interfejs co podany poniżej).\n",
        "\n",
        "Implementację Minimax należy przetestować używając różną głębokość przeszukiwania. Implementacja Solvera musi zapewniać interfejs jak poniżej, ale można dodać dowolne metody prywatne oraz klasy wspomagające (jeżeli będą potrzebne).\n",
        "\n",
        "Punktacja:\n",
        "- Działająca metoda Minimax - **2 pkt**\n",
        "- Działająca metoda Minimax z obcinaniem alpha-beta - **1.5 pkt**\n",
        "- Analiza jakości solvera w zależności od głębokości przeszukiwania **1.5pkt**\n",
        "    - należy zaimplementować w tym celu prostą wizualizację rozgrywki dwóch agentów, bądź kilka przykładów 'z ręki'\n",
        "- Jakość kodu **2pkt**"
      ]
    },
    {
      "cell_type": "markdown",
      "metadata": {
        "collapsed": false
      },
      "source": [
        "Aby importowanie elementów z poniższej komórki działało należy umieścić tego notebooka w tym samym folderze co paczkę `two_player_games`:\n",
        "```\n",
        "├── LICENSE\n",
        "├── README.md\n",
        "├── minimax.ipynb # <<< HERE\n",
        "├── test\n",
        "│   ├── __init__.py\n",
        "│   ├── test_connect_four.py\n",
        "│   ├── test_dots_and_boxes.py\n",
        "│   └── test_pick.py\n",
        "└── two_player_games\n",
        "    ├── __init__.py\n",
        "    ├── games\n",
        "    │   ├── connect_four.py\n",
        "    │   └── dots_and_boxes.py\n",
        "    ├── move.py\n",
        "    ├── player.py\n",
        "    └── state.py\n",
        "```"
      ]
    },
    {
      "cell_type": "code",
      "execution_count": 44,
      "metadata": {
        "collapsed": true
      },
      "outputs": [],
      "source": [
        "from typing import Tuple, List\n",
        "from math import inf\n",
        "\n",
        "from two_player_games.player import Player\n",
        "from two_player_games.games.connect_four import ConnectFour, ConnectFourMove"
      ]
    },
    {
      "cell_type": "markdown",
      "metadata": {
        "collapsed": false
      },
      "source": [
        "Wielkość planszy"
      ]
    },
    {
      "cell_type": "code",
      "execution_count": 45,
      "metadata": {
        "collapsed": false
      },
      "outputs": [],
      "source": [
        "ROW_COUNT = 6\n",
        "COLUMN_COUNT = 7"
      ]
    },
    {
      "cell_type": "code",
      "execution_count": 46,
      "metadata": {
        "collapsed": false
      },
      "outputs": [],
      "source": [
        "class MinMaxSolver:\n",
        "\n",
        "    def __init__(self, game: ConnectFour):\n",
        "        self.game = game\n",
        "\n",
        "    def evaluate_position(self, player: Player)->float:\n",
        "        score = 0\n",
        "        board = self.game.state.fields\n",
        "\n",
        "        # pionowo\n",
        "        for column in range(COLUMN_COUNT):\n",
        "            temp_column = [board[i][1] for i in range(ROW_COUNT)]\n",
        "            for row in range(3):\n",
        "                check_area = temp_column[row:row+4]\n",
        "                score += self.evaluate_area(check_area, player)\n",
        "\n",
        "        # poziomo\n",
        "        for row in range(ROW_COUNT):\n",
        "            for column in range(4):\n",
        "                check_area = board[row][column:column+4]\n",
        "                score += self.evaluate_area(check_area, player)\n",
        "        \n",
        "        # po skosie\n",
        "        for row in range(ROW_COUNT-3):\n",
        "            for column in range(COLUMN_COUNT-3):\n",
        "                check_area = [board[column+i][row+i] for i in range(4)]\n",
        "                score += self.evaluate_area(check_area, player)\n",
        "                check_area = [board[column+3-i][row+i] for i in range(4)]\n",
        "                score += self.evaluate_area(check_area, player)\n",
        "\n",
        "        return score\n",
        "    \n",
        "    def evaluate_area(self, check_area, player):\n",
        "        score = 0\n",
        "        if player == self.game.first_player:\n",
        "            other_player = self.game.second_player\n",
        "        else:\n",
        "            other_player = self.game.first_player\n",
        "        \n",
        "        if check_area.count(player) == 4:\n",
        "            score += 200\n",
        "        elif check_area.count(player) == 3 and check_area.count(None) == 1:\n",
        "            score += 30\n",
        "        elif check_area.count(player) == 2 and check_area.count(None) == 2:\n",
        "            score += 5\n",
        "        if check_area.count(other_player) == 4:\n",
        "            score -= 200\n",
        "        elif check_area.count(other_player) == 3 and check_area.count(None) == 1:\n",
        "            score -= 30\n",
        "        elif check_area.count(other_player) == 2 and check_area.count(None) == 2:\n",
        "            score -= 5\n",
        "        return score\n",
        "\n",
        "    def get_best_move(self)->int:\n",
        "        pass\n",
        "\n",
        "    def is_valid_move(self, col_index:int)->bool:\n",
        "        return self.game.state.fields[col_index][ROW_COUNT-1] == None\n",
        "    \n",
        "    def minimax(self, depth, alpha:float, beta:float, is_maximizing_player:bool)-> Tuple[int, float]:\n",
        "        if depth == 0:\n",
        "            return (None, self.evaluate_position(self.game.get_current_player()))\n",
        "        if is_maximizing_player:\n",
        "            score = -inf\n",
        "            for column in range(COLUMN_COUNT):\n",
        "                if self.is_valid_move(column):\n",
        "                    temp_game = self.game\n",
        "                    temp_game.make_move(ConnectFourMove(column))\n",
        "                    temp_solver = MinMaxSolver(temp_game)\n",
        "                    temp_score = temp_solver.minimax(depth-1, alpha, beta, False)[1]\n",
        "                    if temp_score > score:\n",
        "                        score = temp_score\n",
        "                        best_move = column\n",
        "        else:\n",
        "            score = inf\n",
        "            for column in range(COLUMN_COUNT):\n",
        "                if self.is_valid_move(column):\n",
        "                    temp_game = self.game\n",
        "                    temp_game.make_move(ConnectFourMove(column))\n",
        "                    temp_solver = MinMaxSolver(temp_game)\n",
        "                    temp_score = temp_solver.minimax(depth-1, alpha, beta, True)[1]\n",
        "                    if temp_score < score:\n",
        "                        score = temp_score\n",
        "                        best_move = column\n",
        "        \n",
        "        \"\"\"Returns column index and score\"\"\"\n",
        "        return (best_move, score)"
      ]
    },
    {
      "cell_type": "markdown",
      "metadata": {
        "collapsed": false
      },
      "source": [
        "Rozgrywka"
      ]
    },
    {
      "cell_type": "code",
      "execution_count": 56,
      "metadata": {
        "collapsed": false
      },
      "outputs": [
        {
          "name": "stdout",
          "output_type": "stream",
          "text": [
            "Current player: b\n",
            "[a][a][b][a][b][a][b]\n",
            "[a][b][a][b][b][a][b]\n",
            "[a][b][a][b][a][b][a]\n",
            "[a][b][b][b][a][b][a]\n",
            "[b][b][a][b][a][b][a]\n",
            "[a][b][a][b][a][b][a]\n",
            "Winner: Player a\n"
          ]
        }
      ],
      "source": [
        "p1 = Player(\"a\")\n",
        "p2 = Player(\"b\")\n",
        "game = ConnectFour(size=(COLUMN_COUNT, ROW_COUNT), first_player=p1, second_player=p2)\n",
        "solver = MinMaxSolver(game)\n",
        "while not game.is_finished():\n",
        "    move = solver.minimax(3, 0, 0, True)\n",
        "    game.make_move(ConnectFourMove(move[0]))\n",
        "    print(game)\n",
        "\n",
        "winner = game.get_winner()\n",
        "if winner is None:\n",
        "    print('Draw!')\n",
        "else:\n",
        "    print('Winner: Player ' + winner.char)\n"
      ]
    },
    {
      "cell_type": "code",
      "execution_count": 55,
      "metadata": {},
      "outputs": [
        {
          "name": "stdout",
          "output_type": "stream",
          "text": [
            "Current player: b\n",
            "[ ][ ][ ][ ][ ][ ][ ]\n",
            "[ ][ ][ ][ ][ ][ ][ ]\n",
            "[ ][ ][ ][ ][ ][ ][ ]\n",
            "[ ][ ][ ][ ][ ][ ][ ]\n",
            "[ ][ ][ ][ ][ ][ ][ ]\n",
            "[a][ ][ ][ ][ ][ ][ ]\n",
            "Current player: a\n",
            "[ ][ ][ ][ ][ ][ ][ ]\n",
            "[ ][ ][ ][ ][ ][ ][ ]\n",
            "[ ][ ][ ][ ][ ][ ][ ]\n",
            "[ ][ ][ ][ ][ ][ ][ ]\n",
            "[ ][ ][ ][ ][ ][ ][ ]\n",
            "[a][b][ ][ ][ ][ ][ ]\n",
            "Current player: b\n",
            "[ ][ ][ ][ ][ ][ ][ ]\n",
            "[ ][ ][ ][ ][ ][ ][ ]\n",
            "[ ][ ][ ][ ][ ][ ][ ]\n",
            "[ ][ ][ ][ ][ ][ ][ ]\n",
            "[a][ ][ ][ ][ ][ ][ ]\n",
            "[a][b][ ][ ][ ][ ][ ]\n",
            "Current player: a\n",
            "[ ][ ][ ][ ][ ][ ][ ]\n",
            "[ ][ ][ ][ ][ ][ ][ ]\n",
            "[ ][ ][ ][ ][ ][ ][ ]\n",
            "[ ][ ][ ][ ][ ][ ][ ]\n",
            "[a][b][ ][ ][ ][ ][ ]\n",
            "[a][b][ ][ ][ ][ ][ ]\n",
            "Current player: b\n",
            "[ ][ ][ ][ ][ ][ ][ ]\n",
            "[ ][ ][ ][ ][ ][ ][ ]\n",
            "[ ][ ][ ][ ][ ][ ][ ]\n",
            "[a][ ][ ][ ][ ][ ][ ]\n",
            "[a][b][ ][ ][ ][ ][ ]\n",
            "[a][b][ ][ ][ ][ ][ ]\n",
            "Current player: a\n",
            "[ ][ ][ ][ ][ ][ ][ ]\n",
            "[ ][ ][ ][ ][ ][ ][ ]\n",
            "[ ][ ][ ][ ][ ][ ][ ]\n",
            "[a][b][ ][ ][ ][ ][ ]\n",
            "[a][b][ ][ ][ ][ ][ ]\n",
            "[a][b][ ][ ][ ][ ][ ]\n",
            "Current player: b\n",
            "[ ][ ][ ][ ][ ][ ][ ]\n",
            "[ ][ ][ ][ ][ ][ ][ ]\n",
            "[a][ ][ ][ ][ ][ ][ ]\n",
            "[a][b][ ][ ][ ][ ][ ]\n",
            "[a][b][ ][ ][ ][ ][ ]\n",
            "[a][b][ ][ ][ ][ ][ ]\n",
            "Winner: Player a\n"
          ]
        }
      ],
      "source": [
        "p1 = Player(\"a\")\n",
        "p2 = Player(\"b\")\n",
        "game = ConnectFour(size=(COLUMN_COUNT, ROW_COUNT), first_player=p1, second_player=p2)\n",
        "\n",
        "# game.make_move(ConnectFourMove(0))\n",
        "# game.make_move(ConnectFourMove(5))\n",
        "# game.make_move(ConnectFourMove(0))\n",
        "# game.make_move(ConnectFourMove(5))\n",
        "# game.make_move(ConnectFourMove(0))\n",
        "# game.make_move(ConnectFourMove(5))\n",
        "# game.make_move(ConnectFourMove(0))\n",
        "# game.make_move(ConnectFourMove(5))\n",
        "i=0\n",
        "while not game.is_finished():\n",
        "    if i%2==0:\n",
        "        game.make_move(ConnectFourMove(0))\n",
        "    else:\n",
        "        game.make_move(ConnectFourMove(1))\n",
        "    i +=1\n",
        "    print(game)\n",
        "\n",
        "# moves = game.state.get_moves()\n",
        "# fields = game.state.fields\n",
        "# temp = fields[0:4][0]\n",
        "# temp2 = fields[0][0:4]\n",
        "# print(game)\n",
        "# print(temp)\n",
        "# print(temp2)\n",
        "\n",
        "winner = game.get_winner()\n",
        "if winner is None:\n",
        "    print('Draw!')\n",
        "else:\n",
        "    print('Winner: Player ' + winner.char)\n",
        "\n",
        "# print(game)"
      ]
    }
  ],
  "metadata": {
    "kernelspec": {
      "display_name": "Python 3",
      "language": "python",
      "name": "python3"
    },
    "language_info": {
      "codemirror_mode": {
        "name": "ipython",
        "version": 3
      },
      "file_extension": ".py",
      "mimetype": "text/x-python",
      "name": "python",
      "nbconvert_exporter": "python",
      "pygments_lexer": "ipython3",
      "version": "3.10.12"
    },
    "nteract": {
      "version": "nteract-front-end@1.0.0"
    }
  },
  "nbformat": 4,
  "nbformat_minor": 0
}
