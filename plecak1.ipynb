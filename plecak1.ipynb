{
 "cells": [
  {
   "cell_type": "code",
   "execution_count": 70,
   "metadata": {},
   "outputs": [],
   "source": [
    "import numpy as np\n",
    "import itertools as it\n",
    "from random import randint\n",
    "from time import time\n",
    "import matplotlib.pyplot as plt"
   ]
  },
  {
   "cell_type": "code",
   "execution_count": 71,
   "metadata": {},
   "outputs": [],
   "source": [
    "class KnapSack:\n",
    "  def __init__(self, profits, weights, capacity):\n",
    "    self.profits = profits\n",
    "    self.weights = weights\n",
    "    self.capacity = capacity\n",
    "    self.size = weights.size\n",
    "\n",
    "  def solve_knapsack_brute_force(self):\n",
    "    best_profit, final_weight, final_idx = 0, 0, []\n",
    "    permutation = list(it.product([0,1], repeat=self.size))\n",
    "    for perm in permutation:\n",
    "      temp_p, temp_w, idx = 0, 0, 0\n",
    "      for element in perm:\n",
    "        if element:\n",
    "          temp_w += self.weights[idx]\n",
    "          temp_p += self.profits[idx]\n",
    "        idx += 1\n",
    "      if best_profit < temp_p and temp_w < self.capacity:\n",
    "        best_profit = max(best_profit, temp_p)\n",
    "        final_weight = temp_w\n",
    "        final_idx = perm\n",
    "    return [final_idx, final_weight, best_profit]\n",
    "\n",
    "\n",
    "\n",
    "  def solve_knapsack_pw_ratio(self):\n",
    "    pw_ratio = []\n",
    "    idx_list = []\n",
    "    for i in range(self.size):\n",
    "      pw_ratio.append(self.profits[i] / self.weights[i])\n",
    "      idx_list.append(i)\n",
    "    zipped = list(zip(pw_ratio, self.weights, self.profits, idx_list))\n",
    "    sort_zip = sorted(zipped, key=lambda x: x[0], reverse = True)\n",
    "    temp_w, final_weight, best_profit, final_idx = 0, 0, 0, []\n",
    "    for elem in sort_zip:\n",
    "      temp_w += elem[1]\n",
    "      if temp_w <= self.capacity:\n",
    "        final_weight = temp_w\n",
    "        best_profit += elem[2]\n",
    "        final_idx.append(elem[-1]+1)\n",
    "    final_idx.sort()\n",
    "    return [final_idx, final_weight, best_profit]"
   ]
  },
  {
   "cell_type": "code",
   "execution_count": 72,
   "metadata": {},
   "outputs": [],
   "source": [
    "def brute_force_plot():\n",
    "  weights = np.array([])\n",
    "  profits = np.array([])\n",
    "  capacity = 10\n",
    "  times = []\n",
    "  for _ in range(20):\n",
    "      weights = np.append(weights, [randint(1, 20)])\n",
    "      profits = np.append(profits, [randint(1, 20)])\n",
    "      plecak = KnapSack(profits, weights, capacity)\n",
    "      start = time()\n",
    "      plecak.solve_knapsack_brute_force()\n",
    "      end = time()\n",
    "      times.append(end - start)\n",
    "  plt.scatter(range(1, 21), times)\n",
    "  plt.ylabel('Czas uzyskania wyniku')\n",
    "  plt.xlabel('Ilość elementów do wyboru')\n",
    "  plt.show()\n",
    "\n",
    "\n",
    "def pw_ratio_plot():\n",
    "  weights = np.array([])\n",
    "  profits = np.array([])\n",
    "  capacity = 10\n",
    "  times = []\n",
    "  for i in range(20):\n",
    "      weights = np.append(weights, [randint(1, 20)])\n",
    "      profits = np.append(profits, [randint(1, 20)])\n",
    "      plecak = KnapSack(profits, weights, capacity)\n",
    "      start = time()\n",
    "      plecak.solve_knapsack_pw_ratio()\n",
    "      end = time()\n",
    "      times.append(end - start)\n",
    "  plt.scatter(range(1, 21), times)\n",
    "  plt.ylabel('Czas uzyskania wyniku')\n",
    "  plt.xlabel('Ilość elementów do wyboru')\n",
    "  plt.show()"
   ]
  },
  {
   "cell_type": "code",
   "execution_count": 73,
   "metadata": {},
   "outputs": [],
   "source": [
    "weights = np.array([8, 3, 5, 2])\n",
    "capacity = 9\n",
    "profits = np.array([16, 8, 9, 6])"
   ]
  },
  {
   "cell_type": "code",
   "execution_count": 74,
   "metadata": {},
   "outputs": [
    {
     "name": "stdout",
     "output_type": "stream",
     "text": [
      "Należy zabrać przedmioty: (0, 1, 1, 0) o łącznej wadze 8 i wartości 17\n",
      "Należy zabrać przedmioty: [2, 4] o łącznej wadze 5 i wartości 14\n"
     ]
    }
   ],
   "source": [
    "plecak = KnapSack(profits, weights, capacity)\n",
    "ans = plecak.solve_knapsack_brute_force()\n",
    "msg = f\"Należy zabrać przedmioty: {ans[0]} o łącznej wadze {ans[1]} i wartości {ans[2]}\"\n",
    "print(msg)\n",
    "ans2 = plecak.solve_knapsack_pw_ratio()\n",
    "msg = f\"Należy zabrać przedmioty: {ans2[0]} o łącznej wadze {ans2[1]} i wartości {ans2[2]}\"\n",
    "print(msg)"
   ]
  },
  {
   "cell_type": "code",
   "execution_count": 75,
   "metadata": {},
   "outputs": [
    {
     "data": {
      "image/png": "[encoded data removed]",
      "text/plain": [
       "<Figure size 640x480 with 1 Axes>"
      ]
     },
     "metadata": {},
     "output_type": "display_data"
    }
   ],
   "source": [
    "brute_force_plot()"
   ]
  },
  {
   "cell_type": "markdown",
   "metadata": {},
   "source": [
    "Czy obie metody mają takie same rozwiązania? \n",
    "Nie, algorytmy są różne i różnie działają. Brute force będzie zwracał poprawne wyniki jednak przy większej ilości elementów czas wykonania programu rośnie eksponencjalnie. Natomiast heurystyka rozważająca stosunek zysku do wagi nie ma pewności optymalnego wyniku (będzie to wynik poprawny względem ustalonej heurystyki jednak nie mamy pewności że jest to rozwiązanie optymalne ze wszystkich dostępnych), ale czas znalezienia wyniku rośnie liniowo o ilości elementów w plecaku. \n",
    "\n",
    "\n",
    "Jakie są Pani / Pana wnioski?\n",
    "Jeśli musimy mieć pewność optymalnego wyniku musimy skorzystać z algorytmu brute force. Jednak jeśli bardziej nam zależy na czasie uzyskania wyniku i optymalizacji zużycia mocy obliczeniowej, powinniśmy skorzystać z dobrze dobranej heurystyki. "
   ]
  }
 ],
 "metadata": {
  "kernelspec": {
   "display_name": "Python 3",
   "language": "python",
   "name": "python3"
  },
  "language_info": {
   "codemirror_mode": {
    "name": "ipython",
    "version": 3
   },
   "file_extension": ".py",
   "mimetype": "text/x-python",
   "name": "python",
   "nbconvert_exporter": "python",
   "pygments_lexer": "ipython3",
   "version": "3.10.6"
  }
 },
 "nbformat": 4,
 "nbformat_minor": 2
}
