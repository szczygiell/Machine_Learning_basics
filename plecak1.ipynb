{
 "cells": [
  {
   "cell_type": "code",
   "execution_count": 1,
   "metadata": {},
   "outputs": [],
   "source": [
    "import numpy as np\n",
    "import itertools as it\n",
    "from random import randint\n",
    "from time import time\n",
    "import matplotlib.pyplot as plt"
   ]
  },
  {
   "cell_type": "code",
   "execution_count": 2,
   "metadata": {},
   "outputs": [],
   "source": [
    "class KnapSack:\n",
    "  def __init__(self, profits, weights, capacity):\n",
    "    self.profits = profits\n",
    "    self.weights = weights\n",
    "    self.capacity = capacity\n",
    "    self.size = weights.size\n",
    "\n",
    "  def solve_knapsack_brute_force(self):\n",
    "    best_ans = 0\n",
    "    final_w = 0\n",
    "    final_idx = []\n",
    "    perm = list(it.product([0,1], repeat=self.size))\n",
    "    for i in perm:\n",
    "      temp_p = 0\n",
    "      temp_w = 0\n",
    "      idx = 0\n",
    "      for j in i:\n",
    "        if j == 1:\n",
    "          temp_w += self.weights[idx]\n",
    "          if temp_w < self.capacity:\n",
    "            temp_p += self.profits[idx]\n",
    "        idx += 1\n",
    "      if best_ans < temp_p:\n",
    "        best_ans = max(best_ans, temp_p)\n",
    "        final_w = temp_w\n",
    "        final_idx = i\n",
    "    msg = f\"Należy zabrać przedmioty: {final_idx} o łącznej wadze {final_w} i wartości {best_ans}\"\n",
    "    return msg\n",
    "\n",
    "\n",
    "\n",
    "  def solve_knapsack_pw_ratio(self):\n",
    "    pw_ratio = []\n",
    "    weights = self.weights\n",
    "    profits = self.profits\n",
    "    for i in range(self.size):\n",
    "      pw_ratio.append(profits[i] / weights[i])\n",
    "    temp_w = 0\n",
    "    final_w = 0\n",
    "    final_p = 0\n",
    "    final_idx = []\n",
    "    while temp_w < self.capacity:\n",
    "      if len(pw_ratio) == 0:\n",
    "        break\n",
    "      biggest_pw = max(pw_ratio)\n",
    "      i = pw_ratio.index(biggest_pw)\n",
    "      temp_w += weights[i]\n",
    "      if temp_w <= self.capacity:\n",
    "        final_w = temp_w\n",
    "        final_p += profits[i]\n",
    "        final_idx.append(i+1)\n",
    "      pw_ratio.remove(biggest_pw)\n",
    "      weights = np.delete(weights, i)\n",
    "      profits = np.delete(profits, i)\n",
    "    final_idx.sort()\n",
    "    msg = f\"Należy zabrać przedmioty: {final_idx} o łącznej wadze {final_w} i wartości {final_p}\"\n",
    "    return msg"
   ]
  },
  {
   "cell_type": "code",
   "execution_count": 3,
   "metadata": {},
   "outputs": [],
   "source": [
    "def brute_force_plot():\n",
    "  weights = np.array([])\n",
    "  profits = np.array([])\n",
    "  capacity = 10\n",
    "  times = []\n",
    "  for _ in range(20):\n",
    "      weights = np.append(weights, [randint(1, 20)])\n",
    "      profits = np.append(profits, [randint(1, 20)])\n",
    "      plecak = KnapSack(profits, weights, capacity)\n",
    "      start = time()\n",
    "      plecak.solve_knapsack_brute_force()\n",
    "      end = time()\n",
    "      times.append(end - start)\n",
    "  # fig, ax = plt.subplots()\n",
    "\n",
    "  plt.scatter(range(1, 21), times)\n",
    "  plt.ylabel('Czas uzyskania wyniku')\n",
    "  plt.xlabel('Ilość elementów do wyboru')\n",
    "  # ax.set(xlim=(0, 8), xticks=np.arange(1, 8),\n",
    "  #      ylim=(0, 8), yticks=np.arange(1, 8))\n",
    "\n",
    "  plt.show()\n",
    "\n",
    "\n",
    "def pw_ratio_plot():\n",
    "  weights = np.array([])\n",
    "  profits = np.array([])\n",
    "  capacity = 10\n",
    "  times = []\n",
    "  for i in range(20):\n",
    "      weights = np.append(weights, [randint(1, 20)])\n",
    "      profits = np.append(profits, [randint(1, 20)])\n",
    "      plecak = KnapSack(profits, weights, capacity)\n",
    "      start = time()\n",
    "      plecak.solve_knapsack_pw_ratio()\n",
    "      end = time()\n",
    "      times.append(end - start)\n",
    "  # fig, ax = plt.subplots()\n",
    "\n",
    "  plt.scatter(range(1, 21), times)\n",
    "  plt.ylabel('Czas uzyskania wyniku')\n",
    "  plt.xlabel('Ilość elementów do wyboru')\n",
    "\n",
    "  # ax.set(xlim=(0, 8), xticks=np.arange(1, 8),\n",
    "  #      ylim=(0, 8), yticks=np.arange(1, 8))\n",
    "\n",
    "  plt.show()"
   ]
  },
  {
   "cell_type": "code",
   "execution_count": 4,
   "metadata": {},
   "outputs": [],
   "source": [
    "weights = np.array([8, 3, 5, 2])\n",
    "capacity = 9\n",
    "profits = np.array([16, 8, 9, 6])"
   ]
  },
  {
   "cell_type": "code",
   "execution_count": 5,
   "metadata": {},
   "outputs": [
    {
     "name": "stdout",
     "output_type": "stream",
     "text": [
      "Należy zabrać przedmioty: (0, 1, 1, 0) o łącznej wadze 8 i wartości 17\n",
      "Należy zabrać przedmioty: [2, 4] o łącznej wadze 5 i wartości 14\n"
     ]
    }
   ],
   "source": [
    "plecak = KnapSack(profits, weights, capacity)\n",
    "print(plecak.solve_knapsack_brute_force())\n",
    "print(plecak.solve_knapsack_pw_ratio())"
   ]
  },
  {
   "cell_type": "code",
   "execution_count": 6,
   "metadata": {},
   "outputs": [
    {
     "data": {
      "image/png": "[encoded data removed]",
      "text/plain": [
       "<Figure size 640x480 with 1 Axes>"
      ]
     },
     "metadata": {},
     "output_type": "display_data"
    }
   ],
   "source": [
    "brute_force_plot()\n",
    "# pw_ratio_plot()"
   ]
  },
  {
   "cell_type": "markdown",
   "metadata": {},
   "source": [
    "Czy obie metody mają takie same rozwiązania? \n",
    "Nie, algorytmy są różne i różnie działają. Brute force będzie zwracał poprawne wyniki jednak przy większej ilości elementów czas wykonania programu rośnie eksponencjalnie. Natomiast heurystyka rozważająca stosunek zysku do wagi nie ma pewności poprawnego wyniku, ale czas znalezienia wyniku rośnie liniowo o ilości elementów w plecaku. \n",
    "\n",
    "\n",
    "Jakie są Pani / Pana wnioski?\n",
    "Jeśli musimy mieć pewność poprawnego wyniku musimy skorzystać z algorytmu brute force. Jednak jeśli bardziej nam zależy na czasie uzyskania wyniku i optymalizacji zużycia mocy obliczeniowej, powinniśmy skorzystać z dobrze dobranej heurystyki. "
   ]
  }
 ],
 "metadata": {
  "kernelspec": {
   "display_name": "Python 3",
   "language": "python",
   "name": "python3"
  },
  "language_info": {
   "codemirror_mode": {
    "name": "ipython",
    "version": 3
   },
   "file_extension": ".py",
   "mimetype": "text/x-python",
   "name": "python",
   "nbconvert_exporter": "python",
   "pygments_lexer": "ipython3",
   "version": "3.10.6"
  }
 },
 "nbformat": 4,
 "nbformat_minor": 2
}
