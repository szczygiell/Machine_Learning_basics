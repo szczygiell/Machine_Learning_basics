{
  "cells": [
    {
      "cell_type": "markdown",
      "metadata": {
        "collapsed": false
      },
      "source": [
        "# Zadanie 5\n",
        "\n",
        "Celem ćwiczenia jest implementacja algorytmu Q-learning.\n",
        "\n",
        "Następnie należy stworzyć agenta rozwiązującego problem [Taxi](https://gymnasium.farama.org/environments/toy_text/taxi/). Problem dostępny jest w pakiecie **gym**.\n",
        "\n",
        "Punktacja (max 7 pkt):\n",
        "- Implementacja algorytmu Q-learning. [3 pkt]\n",
        "- Eksperymenty dla różnych wartości hiperparametrów [2 pkt]\n",
        "- Jakość kodu [1 pkt]\n",
        "- Wnioski [1 pkt]\n"
      ]
    },
    {
      "cell_type": "code",
      "execution_count": 87,
      "metadata": {
        "collapsed": false
      },
      "outputs": [],
      "source": [
        "import numpy as np\n",
        "import random as rd"
      ]
    },
    {
      "cell_type": "code",
      "execution_count": 88,
      "metadata": {
        "collapsed": false
      },
      "outputs": [],
      "source": [
        "class QLearningSolver:\n",
        "    \"\"\"Class containing the Q-learning algorithm that might be used for different discrete environments.\"\"\"\n",
        "\n",
        "    def __init__(\n",
        "        self,\n",
        "        observation_space: int,\n",
        "        action_space: int,\n",
        "        learning_rate: float = 0.1,\n",
        "        gamma: float = 0.9,\n",
        "        epsilon: float = 0.1,\n",
        "    ):\n",
        "        self.observation_space = observation_space\n",
        "        self.action_space = action_space\n",
        "        self.learning_rate = learning_rate\n",
        "        self.gamma = gamma\n",
        "        self.epsilon = epsilon\n",
        "        self.q_table = np.zeros((observation_space, action_space))\n",
        "\n",
        "    def __call__(self, state: np.ndarray, action: np.ndarray) -> np.ndarray:\n",
        "        \"\"\"Return Q-value of given state and action.\"\"\"\n",
        "        return self.q_table[state, action]\n",
        "\n",
        "    def update(self, state: np.ndarray, action: np.ndarray, reward: float, next_state: int) -> None:\n",
        "        \"\"\"Update Q-value of given state and action.\"\"\"\n",
        "        current_q: np.ndarray = self.q_table[state, action]\n",
        "        max_next_q: float = np.max(self.q_table[next_state])\n",
        "        new_q: np.ndarray = current_q + self.learning_rate * (reward + self.gamma * max_next_q - current_q)\n",
        "        self.q_table[state, action] = new_q\n",
        "\n",
        "    def get_best_action(self, state: np.ndarray) -> np.ndarray:\n",
        "        \"\"\"Return action that maximizes Q-value for a given state.\"\"\"\n",
        "        # print(self.q_table[state])\n",
        "         \n",
        "        return np.argmax(self.q_table[state])\n",
        "\n",
        "    def __repr__(self):\n",
        "        \"\"\"Elegant representation of Q-learning solver.\"\"\"\n",
        "        return f\"QLearningSolver(observation_space={self.observation_space}, action_space={self.action_space}, learning_rate={self.learning_rate}, gamma={self.gamma}, epsilon={self.epsilon})\"\n",
        "\n",
        "    def __str__(self):\n",
        "        return self.__repr__()\n",
        "    \n",
        "\n",
        "def tester_3000():\n",
        "    pass"
      ]
    },
    {
      "cell_type": "code",
      "execution_count": 91,
      "metadata": {},
      "outputs": [
        {
          "name": "stdout",
          "output_type": "stream",
          "text": [
            "Episode: 0, Total Reward: -4177\n",
            "Episode: 100, Total Reward: -380\n",
            "Episode: 200, Total Reward: -480\n",
            "Episode: 300, Total Reward: -209\n",
            "Episode: 400, Total Reward: -743\n",
            "Episode: 500, Total Reward: -1013\n",
            "Episode: 600, Total Reward: -628\n",
            "Episode: 700, Total Reward: -384\n",
            "Episode: 800, Total Reward: -725\n",
            "Episode: 900, Total Reward: -1237\n",
            "Test Episode: 0, Total Reward: 8\n",
            "Test Episode: 1, Total Reward: 8\n",
            "Test Episode: 2, Total Reward: 4\n",
            "Test Episode: 3, Total Reward: 10\n",
            "Test Episode: 4, Total Reward: 10\n"
          ]
        }
      ],
      "source": [
        "import gymnasium as gym\n",
        "import numpy as np\n",
        "\n",
        "# Inicjalizacja środowiska Taxi\n",
        "env = gym.make('Taxi-v3')\n",
        "# env.reset(seed=42)\n",
        "observation_space = env.observation_space.n\n",
        "action_space = env.action_space.n\n",
        "\n",
        "# Inicjalizacja Q-learning solver\n",
        "#0.1 ; 0.9 ; 0.1\n",
        "q_solver = QLearningSolver(observation_space, action_space, 1)\n",
        "\n",
        "# Trening agenta\n",
        "num_episodes = 1000\n",
        "for episode in range(num_episodes):\n",
        "    state = env.reset()[0]\n",
        "    done = False\n",
        "    total_reward = 0\n",
        "    \n",
        "    while not done:\n",
        "        # Wybór akcji na podstawie epsilon-greedy\n",
        "        if q_solver.epsilon < rd.random():\n",
        "            action = env.action_space.sample()\n",
        "        else:\n",
        "            action = q_solver.get_best_action(state)\n",
        "        \n",
        "        # Wykonanie akcji w środowisku\n",
        "        next_state, reward, done= env.step(action)[0:3]\n",
        "        \n",
        "        # Aktualizacja Q-wartości na podstawie otrzymanego wyniku\n",
        "        q_solver.update(state, action, reward, next_state)\n",
        "        \n",
        "        total_reward += reward\n",
        "        state = next_state\n",
        "    \n",
        "    # Wyświetlenie wyników po zakończeniu epizodu\n",
        "    if episode % 100 == 0:\n",
        "        print(f\"Episode: {episode}, Total Reward: {total_reward}\")\n",
        "\n",
        "# Testowanie agenta po treningu\n",
        "test_episodes = 5\n",
        "for episode in range(test_episodes):\n",
        "    state = env.reset()[0]\n",
        "    done = False\n",
        "    total_reward = 0\n",
        "    \n",
        "    while not done:\n",
        "        action = q_solver.get_best_action(state)\n",
        "        next_state, reward, done= env.step(action)[0:3]\n",
        "        total_reward += reward\n",
        "        state = next_state\n",
        "    \n",
        "    print(f\"Test Episode: {episode}, Total Reward: {total_reward}\")\n"
      ]
    },
    {
      "cell_type": "markdown",
      "metadata": {
        "collapsed": false
      },
      "source": [
        "# Eksperymenty"
      ]
    },
    {
      "cell_type": "markdown",
      "metadata": {
        "collapsed": false
      },
      "source": [
        "# Wnioski"
      ]
    },
    {
      "cell_type": "code",
      "execution_count": null,
      "metadata": {
        "collapsed": false
      },
      "outputs": [],
      "source": []
    }
  ],
  "metadata": {
    "kernelspec": {
      "display_name": "Python 3",
      "language": "python",
      "name": "python3"
    },
    "language_info": {
      "codemirror_mode": {
        "name": "ipython",
        "version": 3
      },
      "file_extension": ".py",
      "mimetype": "text/x-python",
      "name": "python",
      "nbconvert_exporter": "python",
      "pygments_lexer": "ipython3",
      "version": "3.10.12"
    },
    "nteract": {
      "version": "nteract-front-end@1.0.0"
    }
  },
  "nbformat": 4,
  "nbformat_minor": 0
}
