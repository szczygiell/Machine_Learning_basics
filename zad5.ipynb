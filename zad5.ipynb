{
  "cells": [
    {
      "cell_type": "markdown",
      "metadata": {
        "collapsed": false
      },
      "source": [
        "# Zadanie 5\n",
        "\n",
        "Celem ćwiczenia jest implementacja algorytmu Q-learning.\n",
        "\n",
        "Następnie należy stworzyć agenta rozwiązującego problem [Taxi](https://gymnasium.farama.org/environments/toy_text/taxi/). Problem dostępny jest w pakiecie **gym**.\n",
        "\n",
        "Punktacja (max 7 pkt):\n",
        "- Implementacja algorytmu Q-learning. [3 pkt]\n",
        "- Eksperymenty dla różnych wartości hiperparametrów [2 pkt]\n",
        "- Jakość kodu [1 pkt]\n",
        "- Wnioski [1 pkt]\n"
      ]
    },
    {
      "cell_type": "code",
      "execution_count": null,
      "metadata": {
        "collapsed": false
      },
      "outputs": [],
      "source": [
        "import numpy as np\n",
        "import random as rd\n",
        "import gymnasium as gym\n",
        "import matplotlib.pyplot as plt"
      ]
    },
    {
      "cell_type": "code",
      "execution_count": null,
      "metadata": {
        "collapsed": false
      },
      "outputs": [],
      "source": [
        "class QLearningSolver:\n",
        "    \"\"\"Class containing the Q-learning algorithm that might be used for different discrete environments.\"\"\"\n",
        "\n",
        "    def __init__(\n",
        "        self,\n",
        "        observation_space: int,\n",
        "        action_space: int,\n",
        "        learning_rate: float = 0.1,\n",
        "        gamma: float = 0.9,\n",
        "        epsilon: float = 0.1,\n",
        "    ):\n",
        "        self.observation_space = observation_space\n",
        "        self.action_space = action_space\n",
        "        self.learning_rate = learning_rate\n",
        "        self.gamma = gamma\n",
        "        self.epsilon = epsilon\n",
        "        self.q_table = np.zeros((observation_space, action_space))\n",
        "\n",
        "    def __call__(self, state: np.ndarray, action: np.ndarray) -> np.ndarray:\n",
        "        \"\"\"Return Q-value of given state and action.\"\"\"\n",
        "        return self.q_table[state, action]\n",
        "\n",
        "    def update(self, state: np.ndarray, action: np.ndarray, reward: float, next_state: int) -> None:\n",
        "        \"\"\"Update Q-value of given state and action.\"\"\"\n",
        "        current_q: np.ndarray = self.q_table[state, action]\n",
        "        max_next_q: float = np.max(self.q_table[next_state])\n",
        "        new_q: np.ndarray = current_q + self.learning_rate * (reward + self.gamma * max_next_q - current_q)\n",
        "        self.q_table[state, action] = new_q\n",
        "\n",
        "    def get_best_action(self, state: np.ndarray) -> np.ndarray:\n",
        "        \"\"\"Return action that maximizes Q-value for a given state.\"\"\"       \n",
        "        return np.argmax(self.q_table[state])\n",
        "\n",
        "    def __repr__(self):\n",
        "        \"\"\"Elegant representation of Q-learning solver.\"\"\"\n",
        "        return f\"QLearningSolver(observation_space={self.observation_space}, action_space={self.action_space}, \\\n",
        "                learning_rate={self.learning_rate}, gamma={self.gamma}, epsilon={self.epsilon})\"\n",
        "\n",
        "    def __str__(self):\n",
        "        return self.__repr__()\n",
        "\n",
        "def train(env_handler, q_params, learning_iter, plots: bool, verbose: bool=False):\n",
        "    observation_space = env_handler.observation_space.n\n",
        "    action_space = env_handler.action_space.n\n",
        "\n",
        "    # Inicjalizacja solvera\n",
        "    #0.1 ; 0.9 ; 0.1\n",
        "    q_solver = QLearningSolver(observation_space, action_space, q_params[0], q_params[1], q_params[2])\n",
        "\n",
        "    # Trening\n",
        "    num_episodes = learning_iter\n",
        "    all_rewards = []\n",
        "    for episode in range(num_episodes):\n",
        "        state = env_handler.reset()[0]\n",
        "        done = False\n",
        "        total_reward = 0\n",
        "        \n",
        "        while not done:\n",
        "            # Wybór akcji\n",
        "            if q_solver.epsilon > rd.random():\n",
        "                action = env_handler.action_space.sample()\n",
        "            else:\n",
        "                action = q_solver.get_best_action(state)\n",
        "            \n",
        "            # Wykonanie akcji\n",
        "            next_state, reward, done= env_handler.step(action)[0:3]\n",
        "            \n",
        "            # Update wartości q\n",
        "            q_solver.update(state, action, reward, next_state)\n",
        "            \n",
        "            total_reward += reward\n",
        "            state = next_state\n",
        "            \n",
        "        \n",
        "\n",
        "        all_rewards.append(total_reward)\n",
        "        if episode % 10 == 0 and verbose:\n",
        "            print(f\"Episode: {episode}, Total Reward: {total_reward}\")\n",
        "    if plots:\n",
        "        fig1 = plt.plot(all_rewards)\n",
        "        plt.xlabel('Epizod')\n",
        "        plt.ylabel('suma nagród')\n",
        "        plt.title(f'Wykres sumy nagród uzyskanych w poszczególnych iteracjach uczących\\nLiczba iteracji uczących: {num_episodes}')\n",
        "        plt.show()\n",
        "    return q_solver\n",
        "\n",
        "\n",
        "def tester(env_handler, q_solver, testing_iter, plots: bool, verbose: bool=False):\n",
        "    test_rewards = np.array([])\n",
        "    # test_episodes = 500\n",
        "    for episode in range(testing_iter):\n",
        "        state = env_handler.reset()[0]\n",
        "        done = False\n",
        "        total_reward = 0\n",
        "        prev_state = None\n",
        "        prev_state2 = False\n",
        "        \n",
        "        while not done:\n",
        "            if prev_state == state or prev_state2 == prev_state:\n",
        "                action = env_handler.action_space.sample()\n",
        "            else:\n",
        "                action = q_solver.get_best_action(state)\n",
        "            # print(f'stan:{state}; akcja: {action}')\n",
        "            next_state, reward, done= env_handler.step(action)[0:3]\n",
        "            total_reward += reward\n",
        "            prev_state2 = prev_state\n",
        "            prev_state = state\n",
        "            state = next_state\n",
        "            env_handler.render()\n",
        "        test_rewards = np.append(test_rewards, [total_reward])\n",
        "        if verbose:\n",
        "            print(f\"Test Episode: {episode}, Total Reward: {total_reward}\")\n",
        "            \n",
        "    print(f'Średnia wartość nagrody: {np.mean(test_rewards)}')\n",
        "    if plots:\n",
        "        fig2 = plt.plot(test_rewards)\n",
        "        plt.ylim([-10, 20])\n",
        "        plt.xlabel('Epizod')\n",
        "        plt.ylabel('Suma nagród')\n",
        "        plt.title(f'Wykres sumy nagród uzyskanych przy rozwiązywaniu problemu\\nLiczba podejść = {testing_iter}')\n",
        "        plt.show()\n",
        "        \n",
        "\n"
      ]
    },
    {
      "cell_type": "markdown",
      "metadata": {
        "collapsed": false
      },
      "source": [
        "# Eksperymenty"
      ]
    },
    {
      "cell_type": "code",
      "execution_count": 157,
      "metadata": {},
      "outputs": [
        {
          "name": "stdout",
          "output_type": "stream",
          "text": [
            "Średnia wartość nagrody: 7.3\n"
          ]
        },
        {
          "data": {
            "image/png": "[encoded data removed]",
            "text/plain": [
              "<Figure size 640x480 with 1 Axes>"
            ]
          },
          "metadata": {},
          "output_type": "display_data"
        }
      ],
      "source": [
        "q_params = [0.5, 0.9, 0.1]\n",
        "\n",
        "train_env = gym.make('Taxi-v3')\n",
        "\n",
        "q_solver = train(train_env, q_params, 2500, False, False)\n",
        "\n",
        "test_env = gym.make('Taxi-v3',render_mode='ansi')\n",
        "\n",
        "tester(test_env, q_solver, 50, True, False)\n",
        "\n"
      ]
    },
    {
      "cell_type": "code",
      "execution_count": null,
      "metadata": {},
      "outputs": [],
      "source": [
        "## Learning iterations\n",
        "q_params = [0.5, 0.7, 0.1]\n",
        "\n",
        "iter = 1000\n",
        "for _ in range(3):\n",
        "    train_env = gym.make('Taxi-v3')\n",
        "\n",
        "    q_solver = train(train_env, q_params, iter, False, False)\n",
        "\n",
        "    test_env = gym.make('Taxi-v3',render_mode='ansi')\n",
        "    print(f'Dla {iter} iteracji uczących')\n",
        "    tester(test_env, q_solver, 50, True, False)\n",
        "\n",
        "    iter += 3000"
      ]
    },
    {
      "cell_type": "code",
      "execution_count": null,
      "metadata": {},
      "outputs": [],
      "source": [
        "## Learning rate\n",
        "l_rate = 0.1\n",
        "for _ in range(4):\n",
        "    q_params = [l_rate, 0.9, 0.1]\n",
        "    train_env = gym.make('Taxi-v3')\n",
        "    print(f'Dla {l_rate} learning rate')\n",
        "    q_solver = train(train_env, q_params, 4000, True, False)\n",
        "    \n",
        "    test_env = gym.make('Taxi-v3',render_mode='ansi')\n",
        "    \n",
        "    tester(test_env, q_solver, 50, False, False)\n",
        "\n",
        "    l_rate += 0.3"
      ]
    },
    {
      "cell_type": "code",
      "execution_count": null,
      "metadata": {},
      "outputs": [],
      "source": [
        "## Gamma\n",
        "gamma = 0.1\n",
        "for _ in range(4):\n",
        "    q_params = [0.5, gamma, 0.1]\n",
        "    train_env = gym.make('Taxi-v3')\n",
        "    print(f'Dla {gamma} gamma (discount)')\n",
        "    q_solver = train(train_env, q_params, 4000, True, False)\n",
        "    \n",
        "    test_env = gym.make('Taxi-v3',render_mode='ansi')\n",
        "    \n",
        "    tester(test_env, q_solver, 50, True, False)\n",
        "\n",
        "    gamma += 0.3"
      ]
    },
    {
      "cell_type": "code",
      "execution_count": null,
      "metadata": {},
      "outputs": [],
      "source": [
        "## Epsilon\n",
        "\n",
        "epsilon = 0.1\n",
        "for _ in range(4):\n",
        "    q_params = [0.5, 0.7, epsilon]\n",
        "    train_env = gym.make('Taxi-v3')\n",
        "\n",
        "    q_solver = train(train_env, q_params, 4000, False, False)\n",
        "    \n",
        "    test_env = gym.make('Taxi-v3',render_mode='ansi')\n",
        "    print(f'Dla {epsilon} epsilon')\n",
        "    tester(test_env, q_solver, 50, True, False)\n",
        "\n",
        "    epsilon += 0.3"
      ]
    },
    {
      "cell_type": "code",
      "execution_count": null,
      "metadata": {},
      "outputs": [],
      "source": [
        "## Inne środowisko\n",
        "q_params = [0.9, 0.9, 0.1]\n",
        "train_env = gym.make('CliffWalking-v0')\n",
        "\n",
        "q_solver = train(train_env, q_params, 35, True, False)\n",
        "\n",
        "test_env = gym.make('CliffWalking-v0',render_mode='human')\n",
        "\n",
        "tester(test_env, q_solver, 1, False, False)"
      ]
    },
    {
      "cell_type": "markdown",
      "metadata": {
        "collapsed": false
      },
      "source": [
        "# Wnioski"
      ]
    },
    {
      "cell_type": "markdown",
      "metadata": {},
      "source": [
        "Działanie learning rate:\n",
        "określa jak szybko agent aktualizuje wartości w q_table; wysokie wartości doprowadzają do szybkiego dostosowania się do nowych informacji, ale może to doprowadzić to występowania oscylacji; niskie wartości spowalniają proces uczenia ale stabilizują działanie agenta\n",
        "\n",
        "Działanie gamma (discount):\n",
        "określa w jakim stopniu wpływ mają przyszłe nagrody na podejmowanie decyzji przez agenta; niskie wartości prowadzą do tego, że algorytm nie zwraca uwagi na przyszłe stany co ogranicza jego zdolność do tworzenia dalekosiężnych planów, z kolei wyższe wartości poprawiają uczenie\n",
        "\n",
        "Działanie epsilon (exploration):\n",
        "określa jak często agent podejmuje losowe akcje; wysokie wartości prowadzą do dużej eksploracji, lecz utrudnia szybkie uczenie i może prowadzić do nie nauczenia agenta i oscylacji; niskie wartości powoduje dokładniejsze badanie poznanych już strategii i mniejsze eksploracji co może doprowadzić do pominięcia lepszej strategii "
      ]
    }
  ],
  "metadata": {
    "kernelspec": {
      "display_name": "Python 3",
      "language": "python",
      "name": "python3"
    },
    "language_info": {
      "codemirror_mode": {
        "name": "ipython",
        "version": 3
      },
      "file_extension": ".py",
      "mimetype": "text/x-python",
      "name": "python",
      "nbconvert_exporter": "python",
      "pygments_lexer": "ipython3",
      "version": "3.10.12"
    },
    "nteract": {
      "version": "nteract-front-end@1.0.0"
    }
  },
  "nbformat": 4,
  "nbformat_minor": 0
}
