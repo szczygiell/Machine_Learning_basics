{
  "cells": [
    {
      "cell_type": "markdown",
      "metadata": {
        "id": "cBl0cj0jPID2"
      },
      "source": [
        "#Zadanie 2 (7 pkt)\n",
        "Celem zadania jest rozwiązanie zadania optymalizacji przy pomocy algorytmu genetycznego. Należy znaleźć minimum zadanej funkcji:\n",
        "\\begin{equation}\n",
        "f(x) = 1.5-\\exp \\left\\{-x_1^2-x_2^2\\right\\}-0.5 \\exp \\left\\{-\\left(x_1-1\\right)^2-\\left(x_2+2\\right)^2\\right\\}\n",
        "\\end{equation}\n",
        "Należy wykorzystać mechanizmy krzyżowania punktowego, mutacji oraz selekcji turniejowej. Proszę wykorzystać przygotowany szkielet i zaimplementować niezbędne metody. Opracowane oprogramowanie powinno być uniwersalne - wymiar funkcji, której minimum szukamy może być dowolny (mechanizm *args). Punktacja wygląda następująco:\n",
        "\n",
        "*   Stworzenie obiektu klasy *Chromosome* z polem *array*, które jest wektorem aktywnych i nieaktywnych genów - **0.5 pkt**\n",
        "*   Implementacja metody *decode*, która dekoduje część chromosomu (określoną przez początek (*lower_bound*) i koniec (*upper_bound*)) do postaci liczby rzeczywistej. *aoi* to zakres wartości zdekodowanej liczby rzeczywistej. Przykład: liczba 135 w postaci binarnej zapisana przy użyciu 8 bitów to 1000 0111, jeśli nasze *aoi* to [0, 1], to 135 sprowadzone do tego zakresu to 0.529. Można skorzystać z funkcji pomocniczej *min_max_norm* - **1 pkt**\n",
        "*   Implementacja metody *mutation*, która przyjmuje jako argument prawdopodobieństo mutacji i zmienia wartość jedego, losowego genu na przeciwną - **0.5 pkt**\n",
        "*   Implementacja metody *crossover*, która wykonuje operację krzyżowania jednopunktowego - **1 pkt**\n",
        "*   Implementacja metody *eval_objective_func*, która dekoduje cały chromosom (otrzymuje się argumenty funkcji) oraz zwraca wartość funkcji celu dla tych argumentów - **1 pkt**\n",
        "*   Implementacja metody *tournament_selection*, która przeprowadza selekcję turniejową - **1 pkt**\n",
        "*   Implementacja metody *reproduce*, która generuje nowe pokolenie - z pewnym prawdopodobieństwem przeprowadza krzyżowanie jednopunktowe lub \"przerzuca\" rodziców do nowego pokolenia - **0.5 pkt**\n",
        "*   Implementacja metody *run*, która wykonuje cały alorytm genetyczny dla określonej liczby pokoleń. W każdym pokoleniu należy zapisać dane osobnika z najlepszym chromosomem zdekodowane wartości x i y oraz wartość funkcji strat dla tego osobnika - **0.5 pkt**\n",
        "*   Proszę, podobnie jak miało to miejsce w przypadku metody gradientowej z poprzednich zajęć, wygenerować wykres przy użyciu funkcji *plot_func* (w przypadku innego typu argumentu *trace*, funkcję można zmodyfikować. Wykres powinien przedstawiać funkcję, której minimum poszukujemy oraz punkty odpowiadające najlepszym osobnikom w danych generacjach, których kolor jest coraz jaśniejszy wraz ze zbliżaniem się do minimum. Proszę zapisać swoje wnioski, w szczególności w odniesieniu do metody gradientowej. - **1 pkt**\n"
      ]
    },
    {
      "cell_type": "code",
      "execution_count": 2,
      "metadata": {
        "id": "t7lu9KtdNqVO"
      },
      "outputs": [],
      "source": [
        "import numpy as np\n",
        "import matplotlib.pyplot as plt\n",
        "import random as rd\n",
        "import math"
      ]
    },
    {
      "cell_type": "code",
      "execution_count": 3,
      "metadata": {
        "id": "At5DP7zTNsO8"
      },
      "outputs": [],
      "source": [
        "def min_max_norm(val, min_val, max_val, new_min, new_max):\n",
        "  return (val - min_val) * (new_max - new_min) / (max_val - min_val) + new_min"
      ]
    },
    {
      "cell_type": "code",
      "execution_count": 4,
      "metadata": {
        "id": "AHfWVTRuNxms"
      },
      "outputs": [],
      "source": [
        "class Chromosome:\n",
        "  def __init__(self, length, array=None): #if array is None it should be initialized with random binary vector\n",
        "    if array == None:\n",
        "      array = []\n",
        "      for i in range(length):\n",
        "        array.append(rd.choice([0, 1]))\n",
        "    self.array = array\n",
        "    self.length = length\n",
        "\n",
        "  def decode(self, lower_bound, upper_bound, aoi):\n",
        "    bin_value = max_bin_val = '0b'\n",
        "    for i in range(upper_bound - lower_bound + 1):\n",
        "      bin_value += str(self.array[lower_bound+i])\n",
        "      max_bin_val += '1'\n",
        "    return min_max_norm(int(bin_value, 2), 0, int(max_bin_val, 2), aoi[0], aoi[1])\n",
        "\n",
        "  def mutation(self, probability):\n",
        "    if rd.random() < probability:\n",
        "      idx = rd.randint(0, self.length-1)\n",
        "      self.array[idx] = 1-self.array[idx]\n",
        "\n",
        "  def crossover(self, other):\n",
        "    cut = rd.randint(1, self.length-1)\n",
        "    for i in range(cut):\n",
        "      self.array[i], other.array[i] = other.array[i], self.array[i]\n"
      ]
    },
    {
      "cell_type": "code",
      "execution_count": 5,
      "metadata": {},
      "outputs": [],
      "source": [
        "def objective_function(x1, x2):\n",
        "    return 1.5 - np.exp(-x1**2 - x2**2) - 0.5 * np.exp(-(x1 - 1)**2 - (x2 + 2)**2)"
      ]
    },
    {
      "cell_type": "code",
      "execution_count": 6,
      "metadata": {
        "id": "bAMGkQczOnRS"
      },
      "outputs": [],
      "source": [
        "class GeneticAlgorithm:\n",
        "  def __init__(self, chromosome_length, obj_func_num_args, objective_function, aoi, population_size=1000,\n",
        "               tournament_size=2, mutation_probability=0.05, crossover_probability=0.8, num_steps=30):\n",
        "    assert chromosome_length % obj_func_num_args == 0, \"Number of bits for each argument should be equal\"\n",
        "    self.chromosome_lengths = chromosome_length\n",
        "    self.obj_func_num_args = obj_func_num_args\n",
        "    self.bits_per_arg = int(chromosome_length / obj_func_num_args)\n",
        "    self.objective_function = objective_function\n",
        "    self.aoi = aoi\n",
        "    self.tournament_size = tournament_size\n",
        "    self.mutation_probability = mutation_probability\n",
        "    self.crossover_probability = crossover_probability\n",
        "    self.num_steps = num_steps\n",
        "    self.population = [Chromosome(chromosome_length) for i in range(population_size)]\n",
        "\n",
        "  def eval_objective_func(self, chromosome):\n",
        "    values = []\n",
        "    for i in range(self.obj_func_num_args):\n",
        "      values.append(chromosome.decode(i*self.bits_per_arg, (i+1)*self.bits_per_arg-1, self.aoi))\n",
        "    return objective_function(values[0], values[1])\n",
        "\n",
        "  def tournament_selection(self):\n",
        "    competitors, best_val = rd.sample(self.population, self.tournament_size), math.inf\n",
        "    for chromosome in competitors:\n",
        "      best_val = min(best_val, self.eval_objective_func(chromosome))\n",
        "      if best_val == self.eval_objective_func(chromosome):\n",
        "        the_chosen_one = chromosome\n",
        "    return the_chosen_one\n",
        "\n",
        "  def reproduce(self, parents):\n",
        "    if rd.random() < self.crossover_probability:\n",
        "      return parents[0].crossover(parents[1])\n",
        "    else:\n",
        "      return parents\n",
        "\n",
        "  def plot_func(self, trace):\n",
        "    X = np.arange(-2, 3, 0.05)\n",
        "    Y = np.arange(-4, 2, 0.05)\n",
        "    X, Y = np.meshgrid(X, Y)\n",
        "    Z = 1.5 - np.exp(-X ** (2) - Y ** (2)) - 0.5 * np.exp(-(X - 1) ** (2) - (Y + 2) ** (2))\n",
        "    plt.figure()\n",
        "    plt.contour(X, Y, Z, 10)\n",
        "    cmaps = [[ii / len(trace), 0, 0] for ii in range(len(trace))]\n",
        "    plt.scatter([x[0] for x in trace], [x[1] for x in trace], c=cmaps)\n",
        "    plt.show()\n",
        "\n",
        "  def run(self):\n",
        "    best_chromosomes = []\n",
        "    best_chromosomes.append(min(self.eval_objective_func(chromosome) for chromosome in self.population))\n",
        "\n",
        "    for _ in range(self.num_steps):\n",
        "      temp_population = []\n",
        "      population_size = len(self.population)\n",
        "\n",
        "      for i in range(round(population_size/2)):\n",
        "        parents = rd.sample(self.population, 2)\n",
        "        self.reproduce(parents)\n",
        "        temp_population.append(parents[0])\n",
        "        temp_population.append(parents[1])\n",
        "\n",
        "      for i in range(population_size):\n",
        "        temp_population[i].mutation(self.mutation_probability)\n",
        "      self.population, temp_population = temp_population, []\n",
        "\n",
        "      for i in range(population_size):\n",
        "        temp_population.append(self.tournament_selection())\n",
        "      self.population = temp_population\n",
        "\n",
        "      best_chromosomes.append(min(self.eval_objective_func(chromosome) for chromosome in self.population))\n",
        "      \n",
        "    print('done')\n",
        "    "
      ]
    },
    {
      "cell_type": "code",
      "execution_count": 8,
      "metadata": {},
      "outputs": [],
      "source": [
        "aoi = [-3, 3]\n",
        "GenAlgoritm = GeneticAlgorithm(16, 2, objective_function, aoi)\n",
        "GenAlgoritm.run()"
      ]
    }
  ],
  "metadata": {
    "colab": {
      "provenance": []
    },
    "kernelspec": {
      "display_name": "Python 3",
      "language": "python",
      "name": "python3"
    },
    "language_info": {
      "codemirror_mode": {
        "name": "ipython",
        "version": 3
      },
      "file_extension": ".py",
      "mimetype": "text/x-python",
      "name": "python",
      "nbconvert_exporter": "python",
      "pygments_lexer": "ipython3",
      "version": "3.10.6"
    },
    "nteract": {
      "version": "nteract-front-end@1.0.0"
    }
  },
  "nbformat": 4,
  "nbformat_minor": 0
}
